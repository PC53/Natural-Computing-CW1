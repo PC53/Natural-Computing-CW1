{
 "cells": [
  {
   "cell_type": "markdown",
   "metadata": {},
   "source": [
    "# Ant Colony Optimisation: Example Program"
   ]
  },
  {
   "cell_type": "markdown",
   "metadata": {},
   "source": [
    "This is a simple illustration of Ant Colony Optimisation for a Travelling Salesperson Problem, for the course Natural Computing course at University of Edinburgh. This is by no means perfect code and should not be taken as such. The code is adapted form the earlied used GA, but here the optimisation is done by ACO."
   ]
  },
  {
   "cell_type": "code",
   "execution_count": 1,
   "metadata": {},
   "outputs": [],
   "source": [
    "import numpy as np\n",
    "import random\n",
    "import operator\n",
    "import matplotlib.pyplot as plt"
   ]
  },
  {
   "cell_type": "markdown",
   "metadata": {},
   "source": [
    "# Problem representation"
   ]
  },
  {
   "cell_type": "markdown",
   "metadata": {},
   "source": [
    "In this formulation the individual genes of our solutions consist of cities the agent visits along the route, the chromosome being the full route. First we make a class for each city, that contains their personal coordinates in plane, and a function for computing the distance between a given city and another."
   ]
  },
  {
   "cell_type": "code",
   "execution_count": 2,
   "metadata": {},
   "outputs": [],
   "source": [
    "class City:\n",
    "    def __init__(self, x, y):\n",
    "        self.x = x\n",
    "        self.y = y\n",
    "        \n",
    "    def distance_to(self, city):\n",
    "        x = np.abs(self.x - city.x)\n",
    "        y = np.abs(self.y - city.y)\n",
    "        distance = np.sqrt((x*x)+(y*y))\n",
    "        return distance\n",
    "    \n",
    "    def __repr__(self):\n",
    "        return \"[\" + str(self.x)+\",\"+str(self.y)+\"]\""
   ]
  },
  {
   "cell_type": "markdown",
   "metadata": {},
   "source": [
    "Given that we are able to generate individual cities, we will now create our complete set of cities. Also the main ingredients for ACO are generated here."
   ]
  },
  {
   "cell_type": "code",
   "execution_count": 3,
   "metadata": {},
   "outputs": [
    {
     "name": "stdout",
     "output_type": "stream",
     "text": [
      "[[18,30], [28,28], [16,2], [29,10], [2,14], [4,2], [2,18], [31,21], [5,23], [31,9], [22,29], [4,22], [20,12], [21,24], [11,2], [1,17], [17,27], [30,25], [2,21], [4,1], [16,22], [18,8], [14,4], [5,26], [1,17], [0,17], [15,23], [26,28], [1,15], [16,14], [15,12], [2,20]]\n"
     ]
    }
   ],
   "source": [
    "NoC=32\n",
    "\n",
    "dist = np.zeros((NoC,NoC))\n",
    "\n",
    "cities = []\n",
    "\n",
    "for i in range(NoC):\n",
    "    cities.append(City((np.random.randint(0, NoC)), np.random.randint(0,NoC))) # integer positions are good enough here\n",
    "\n",
    "print(cities)\n",
    "\n",
    "eta = np.zeros((NoC,NoC))\n",
    "\n",
    "for i in range(NoC):    \n",
    "    for j in range(NoC):\n",
    "        dist[i][j]=(cities[i].distance_to(cities[j]))\n",
    "        if dist[i][j]>1.0e-6:\n",
    "            eta[i][j]=1.0/(dist[i][j]*dist[i][j])                           # this means beta = 2\n",
    "        else:\n",
    "            eta[i][j]=1.0e-6\n",
    "            \n",
    "tau = np.random.rand(NoC,NoC)\n"
   ]
  },
  {
   "cell_type": "markdown",
   "metadata": {},
   "source": [
    "The folling is a step (iteration) for an ACO algorithm. Each ants takes a pass through the cities, on a path that is prodcued by the pheromones and the local heuristics. You may notice that this function is derived from a C program."
   ]
  },
  {
   "cell_type": "code",
   "execution_count": 7,
   "metadata": {},
   "outputs": [],
   "source": [
    "def ACO_step(NoA,rho,ff_min):\n",
    "    aa=np.zeros(NoC)\n",
    "    am=np.zeros(NoC)\n",
    "    ll=[0 for i in range(NoC)]\n",
    "    q=[0 for i in range(NoC)]\n",
    "    ff = np.random.rand(NoA)\n",
    "    \n",
    "    fg=1.0e12\n",
    "    ng=-1.0                                  # index of best ant\n",
    "    for n in range(NoA):                     # for each ant\n",
    "        aa[0]=np.random.randint(0, NoC)      # random starting city\n",
    "        lng=NoC-1                              # remaining tour length\n",
    "        for i in range(lng):\n",
    "            if i==aa[0]: \n",
    "                ll[i]=NoC-1\n",
    "            else:\n",
    "                ll[i]=i\n",
    "        \n",
    "        for m in range(1,NoC): \n",
    "            ll0=int(ll[0])\n",
    "            aam1=int(aa[m-1])\n",
    "            q[int(ll[0])]=tau[int(ll[0])][int(aa[m-1])]*eta[int(ll[0])][int(aa[m-1])]\n",
    "            for i in range(1,lng):\n",
    "                q[int(ll[i])]=q[int(ll[i-1])]+tau[int(ll[i])][int(aa[m-1])]*eta[int(ll[i])][int(aa[m-1])]\n",
    "                        \n",
    "            if q[ll[lng-1]]<1.0e-12:\n",
    "                i=np.random.randint(0, lng)\n",
    "                aa[m]=ll[i]\n",
    "                ll[i]=ll[lng-1]\n",
    "                lng=lng-1\n",
    "                \n",
    "            else:\n",
    "                pp=np.random.rand()*q[ll[lng-1]]\n",
    "                for i in range(lng): \n",
    "                    if pp<q[ll[i]]: \n",
    "                        aa[m]=ll[i]\n",
    "                        ll[i]=ll[lng-1]\n",
    "                        lng=lng-1\n",
    "                        break\n",
    "                        \n",
    "        ff[n]=dist[int(aa[0])][int(aa[NoC-1])]\n",
    "        for m in range(1,NoC):\n",
    "            ff[n]+=dist[int(aa[m])][int(aa[m-1])]\n",
    "        if ff[n]<fg:\n",
    "            fg=ff[n]\n",
    "            ng=n\n",
    "            for m in range(NoC):\n",
    "                am[m]=aa[m]\n",
    "            \n",
    "    if fg<ff_min: \n",
    "        ff_min=fg                 # remember best tour length\n",
    "            \n",
    "    for m in range (NoC):           # now pheromone update\n",
    "        for i in range (NoC):\n",
    "            tau[i][m]*=rho\n",
    "            \n",
    "    for m in range(1,NoC):\n",
    "        tau[int(am[m])][int(am[m-1])]+=1.0/(fg*fg)\n",
    "        tau[int(am[m-1])][int(am[m])]+=1.0/(fg*fg)\n",
    "        \n",
    "    tau[int(am[0])][int(am[NoC-1])]+=1.0/(fg*fg)\n",
    "    tau[int(am[NoC-1])][int(am[0])]+=1.0/(ff[ng]*ff[ng])\n",
    "    \n",
    "    return am"
   ]
  },
  {
   "cell_type": "markdown",
   "metadata": {},
   "source": [
    "# Ant Colony Algorithm"
   ]
  },
  {
   "cell_type": "markdown",
   "metadata": {},
   "source": [
    "Now we can calculate fitness for a route. We must use these to find the best ant, because we aim at implementing the version of the algorithm where only the best ant puts pheromone (which is a bit similar to PSO?)."
   ]
  },
  {
   "cell_type": "code",
   "execution_count": 8,
   "metadata": {},
   "outputs": [
    {
     "name": "stdout",
     "output_type": "stream",
     "text": [
      "[26. 20. 13. 10. 27.  1. 17.  7.  9.  3. 21.  2. 22. 14.  5. 19.  4. 28.\n",
      " 24. 25. 15.  8. 11.  6. 31. 18. 23. 16.  0. 29. 12. 30.]\n"
     ]
    }
   ],
   "source": [
    "NoA=32                              # number of ants\n",
    "rho=0.9                             # set main ACO parameter\n",
    "ff_min=1.0e12\n",
    "\n",
    "for t in range(100):                # try longer runtime for better results (especially if you use more cities)\n",
    "    zz=ACO_step(10, rho, ff_min)    # number of ants, rho, return best path\n",
    "    \n",
    "print(zz)"
   ]
  },
  {
   "cell_type": "code",
   "execution_count": 9,
   "metadata": {
    "scrolled": true
   },
   "outputs": [
    {
     "data": {
      "image/png": "[encoded data removed]",
      "text/plain": [
       "<Figure size 432x288 with 1 Axes>"
      ]
     },
     "metadata": {
      "needs_background": "light"
     },
     "output_type": "display_data"
    }
   ],
   "source": [
    "kk=len(zz)\n",
    "zx=[]\n",
    "zy=[]\n",
    "for i in range(kk):\n",
    "    zx.append(cities[int(zz[i])].x)\n",
    "    zy.append(cities[int(zz[i])].y)\n",
    "\n",
    "plt.scatter(zx,zy)\n",
    "plt.plot([zx[i % kk] for i in range(kk+1)], [zy[i % kk] for i in range(kk+1)], 'xb-')\n",
    "plt.show()"
   ]
  },
  {
   "cell_type": "code",
   "execution_count": null,
   "metadata": {},
   "outputs": [],
   "source": []
  }
 ],
 "metadata": {
  "kernelspec": {
   "display_name": "Python 3",
   "language": "python",
   "name": "python3"
  },
  "language_info": {
   "codemirror_mode": {
    "name": "ipython",
    "version": 3
   },
   "file_extension": ".py",
   "mimetype": "text/x-python",
   "name": "python",
   "nbconvert_exporter": "python",
   "pygments_lexer": "ipython3",
   "version": "3.6.15"
  }
 },
 "nbformat": 4,
 "nbformat_minor": 4
}
