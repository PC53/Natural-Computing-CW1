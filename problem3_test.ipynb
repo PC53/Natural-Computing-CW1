{
 "cells": [
  {
   "cell_type": "code",
   "execution_count": 42,
   "metadata": {},
   "outputs": [],
   "source": [
    "from random import random, randint, seed, uniform, choice, sample\n",
    "from statistics import mean\n",
    "from copy import deepcopy\n",
    "import matplotlib.pyplot as plt\n",
    "import math\n",
    "\n",
    "def protected_div(x, y):\n",
    "    if y == 0:\n",
    "        return 1\n",
    "    return x / y\n",
    "\n",
    "def add(x, y): return x + y\n",
    "def sub(x, y): return x - y\n",
    "def mul(x, y): return x * y\n",
    "\n",
    "FUNCTIONS = [add, sub, mul, protected_div]\n",
    "TERMINALS = [0, 1, 2, 3, 4, 5,6,7,8,9]\n"
   ]
  },
  {
   "cell_type": "code",
   "execution_count": 43,
   "metadata": {},
   "outputs": [],
   "source": [
    "def create_tree(max_depth, depth=0, is_root=True):\n",
    "    if depth == max_depth or (not is_root and random() > 0.5):\n",
    "        return choice(TERMINALS)\n",
    "    func = choice(FUNCTIONS)\n",
    "    return [func, create_tree(max_depth, depth+1, False), create_tree(max_depth, depth+1, False)]\n"
   ]
  },
  {
   "cell_type": "code",
   "execution_count": 44,
   "metadata": {},
   "outputs": [],
   "source": [
    "target_sequence = [0, 0, 1, 2, 4, 5, 7, 9, 12, 14, 17, 21, 24, 28, 32, 37, 42, 47, 52, 58, 64, 70, 77, 84, 91, 98, 105, 114, 122, 131]\n",
    "\n",
    "def evaluate(tree):\n",
    "    diff = 0\n",
    "    for i, target in enumerate(target_sequence):\n",
    "        result = execute_tree(tree, i)\n",
    "        diff += abs(result - target)\n",
    "    return diff\n"
   ]
  },
  {
   "cell_type": "code",
   "execution_count": 45,
   "metadata": {},
   "outputs": [],
   "source": [
    "def execute_tree(tree, x):\n",
    "    if not isinstance(tree, list):\n",
    "        return tree if tree != 'x' else x\n",
    "    func = tree[0]\n",
    "    left = execute_tree(tree[1], x)\n",
    "    right = execute_tree(tree[2], x)\n",
    "    return func(left, right)\n"
   ]
  },
  {
   "cell_type": "code",
   "execution_count": 46,
   "metadata": {},
   "outputs": [],
   "source": [
    "def crossover(tree1, tree2):\n",
    "    if not isinstance(tree1, list) or not isinstance(tree2, list):\n",
    "        return deepcopy(tree1), deepcopy(tree2)\n",
    "    tree1[1], tree2[1] = tree2[1], tree1[1]  # swap subtrees\n",
    "    return tree1, tree2\n",
    "\n",
    "def mutate(tree):\n",
    "    if not isinstance(tree, list):\n",
    "        return create_tree(2)\n",
    "    mutate_branch = randint(1, 2)\n",
    "    tree[mutate_branch] = create_tree(2)\n",
    "    return tree\n"
   ]
  },
  {
   "cell_type": "code",
   "execution_count": 47,
   "metadata": {},
   "outputs": [
    {
     "name": "stdout",
     "output_type": "stream",
     "text": [
      "Best Individual: [<function add at 0x000001E9A6847EC0>, [<function mul at 0x000001E9A68776A0>, 4, 8], [<function protected_div at 0x000001E9A6847F60>, 1, 5]]\n",
      "Fitness: 1015.9999999999997\n"
     ]
    }
   ],
   "source": [
    "population_size = 100\n",
    "max_generations = 200\n",
    "population = [create_tree(8) for _ in range(population_size)]\n",
    "\n",
    "for generation in range(max_generations):\n",
    "    population = sorted(population, key=evaluate)\n",
    "    next_gen = population[:2]  # Elitism: Keep the best two\n",
    "\n",
    "    while len(next_gen) < population_size:\n",
    "        if random() < 0.7:  # Crossover\n",
    "            ind1, ind2 = sample(population[:10], 2)  # Top 10 individuals\n",
    "            off1, off2 = crossover(deepcopy(ind1), deepcopy(ind2))\n",
    "            next_gen.extend([off1, off2])\n",
    "        else:  # Mutation\n",
    "            ind = choice(population[:10])\n",
    "            next_gen.append(mutate(deepcopy(ind)))\n",
    "\n",
    "    population = next_gen\n",
    "\n",
    "best_individual = population[0]\n",
    "print('Best Individual:', best_individual)\n",
    "print('Fitness:', evaluate(best_individual))\n"
   ]
  },
  {
   "cell_type": "code",
   "execution_count": null,
   "metadata": {},
   "outputs": [],
   "source": []
  }
 ],
 "metadata": {
  "kernelspec": {
   "display_name": "base",
   "language": "python",
   "name": "python3"
  },
  "language_info": {
   "codemirror_mode": {
    "name": "ipython",
    "version": 3
   },
   "file_extension": ".py",
   "mimetype": "text/x-python",
   "name": "python",
   "nbconvert_exporter": "python",
   "pygments_lexer": "ipython3",
   "version": "3.11.5"
  }
 },
 "nbformat": 4,
 "nbformat_minor": 2
}
